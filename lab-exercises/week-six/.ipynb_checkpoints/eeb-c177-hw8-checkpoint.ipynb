{
 "cells": [
  {
   "cell_type": "code",
   "execution_count": 2,
   "metadata": {},
   "outputs": [
    {
     "name": "stdout",
     "output_type": "stream",
     "text": [
      "What temperature is it in Faherenheit or Celsius? Celsius\n",
      " What is the temperature in Celsius37\n",
      "The temperature in Faherenheit is 124.2\n"
     ]
    }
   ],
   "source": [
    "#1a \n",
    "ks = input(\"What temperature is it in Faherenheit or Celsius? \")\n",
    "if ks == \"Celsius\":\n",
    "    xx = input(\" What is the temperature in Celsius\")\n",
    "    yy = (float(xx) + 32) *9/5\n",
    "    print(\"The temperature in Faherenheit is {}\".format(yy))\n",
    "    \n",
    "elif ks == \"Faherenheit\":\n",
    "    xx = input(\" What is the temperature in Faherenheit\")\n",
    "    yy = (float(xx) - 32) *5/9\n",
    "    print(\"The temperature in Celsius is {}\".format(yy))\n",
    "else:\n",
    "    print(\"{} is a not a valid formatting option\".format(ks))"
   ]
  },
  {
   "cell_type": "code",
   "execution_count": 13,
   "metadata": {},
   "outputs": [
    {
     "name": "stdout",
     "output_type": "stream",
     "text": [
      "What temperature is it in Faherenheit or Celsius? Celsius\n",
      " What is the temperature in Celsius47\n",
      "The temperature in Faherenheit is 142.2\n"
     ]
    }
   ],
   "source": [
    "#1b\n",
    "ks = input(\"What temperature is it in Faherenheit or Celsius? \")\n",
    "if xx.isdigit() == True:\n",
    "    if ks == \"Celsius\":\n",
    "        xx = input(\" What is the temperature in Celsius\")\n",
    "        yy = (float(xx) + 32) *9/5\n",
    "        print(\"The temperature in Faherenheit is {}\".format(yy))\n",
    "    \n",
    "    elif ks == \"Faherenheit\":\n",
    "        xx = input(\" What is the temperature in Faherenheit\")\n",
    "        yy = (float(xx) - 32) *5/9\n",
    "        print(\"The temperature in Celsius is {}\".format(yy))\n",
    "    else:print(\"Invalid, put number\")  \n",
    "else:\n",
    "    print(\"{} is a not a valid formatting option\".format(ks))\n",
    "      \n",
    "\n"
   ]
  },
  {
   "cell_type": "code",
   "execution_count": 15,
   "metadata": {},
   "outputs": [
    {
     "name": "stdout",
     "output_type": "stream",
     "text": [
      "Select (F) or (C): F\n",
      "What is the temperature: 65\n",
      "65 degrees F is 18.333333333333336 degrees C\n"
     ]
    }
   ],
   "source": [
    "#1c example 1\n",
    "\n",
    "def convert_temp(scale=None, source_temp=None):\n",
    "    if scale == \"F\":\n",
    "        return 'C', (source_temp - 32.0) * (5.0/9.0)\n",
    "    elif scale == \"C\":\n",
    "        return 'F', (source_temp * (9.0/5.0)) + 32.0\n",
    "    else:\n",
    "        print(\"Needs to be (F) or (C)!\")\n",
    "\n",
    "scale = input(\"Select (F) or (C): \" )\n",
    "source_temp = int(input(\"What is the temperature: \" ))\n",
    "s, m = convert_temp(scale, source_temp)\n",
    "print(source_temp, \"degrees\", scale, \"is\", m, \"degrees\", s)"
   ]
  },
  {
   "cell_type": "code",
   "execution_count": 17,
   "metadata": {},
   "outputs": [
    {
     "name": "stdout",
     "output_type": "stream",
     "text": [
      "Select (F) or (C): K\n",
      "What is the temperature: 56\n",
      "Needs to be (F) or (C)!\n"
     ]
    },
    {
     "ename": "TypeError",
     "evalue": "cannot unpack non-iterable NoneType object",
     "output_type": "error",
     "traceback": [
      "\u001b[0;31m---------------------------------------------------------------------------\u001b[0m",
      "\u001b[0;31mTypeError\u001b[0m                                 Traceback (most recent call last)",
      "\u001b[0;32m<ipython-input-17-2ca0251d2b2c>\u001b[0m in \u001b[0;36m<module>\u001b[0;34m\u001b[0m\n\u001b[1;32m     10\u001b[0m \u001b[0mscale\u001b[0m \u001b[0;34m=\u001b[0m \u001b[0minput\u001b[0m\u001b[0;34m(\u001b[0m\u001b[0;34m\"Select (F) or (C): \"\u001b[0m \u001b[0;34m)\u001b[0m\u001b[0;34m\u001b[0m\u001b[0;34m\u001b[0m\u001b[0m\n\u001b[1;32m     11\u001b[0m \u001b[0msource_temp\u001b[0m \u001b[0;34m=\u001b[0m \u001b[0mint\u001b[0m\u001b[0;34m(\u001b[0m\u001b[0minput\u001b[0m\u001b[0;34m(\u001b[0m\u001b[0;34m\"What is the temperature: \"\u001b[0m \u001b[0;34m)\u001b[0m\u001b[0;34m)\u001b[0m\u001b[0;34m\u001b[0m\u001b[0;34m\u001b[0m\u001b[0m\n\u001b[0;32m---> 12\u001b[0;31m \u001b[0ms\u001b[0m\u001b[0;34m,\u001b[0m \u001b[0mm\u001b[0m \u001b[0;34m=\u001b[0m \u001b[0mconvert_temp\u001b[0m\u001b[0;34m(\u001b[0m\u001b[0mscale\u001b[0m\u001b[0;34m,\u001b[0m \u001b[0msource_temp\u001b[0m\u001b[0;34m)\u001b[0m\u001b[0;34m\u001b[0m\u001b[0;34m\u001b[0m\u001b[0m\n\u001b[0m\u001b[1;32m     13\u001b[0m \u001b[0mprint\u001b[0m\u001b[0;34m(\u001b[0m\u001b[0msource_temp\u001b[0m\u001b[0;34m,\u001b[0m \u001b[0;34m\"degrees\"\u001b[0m\u001b[0;34m,\u001b[0m \u001b[0mscale\u001b[0m\u001b[0;34m,\u001b[0m \u001b[0;34m\"is\"\u001b[0m\u001b[0;34m,\u001b[0m \u001b[0mm\u001b[0m\u001b[0;34m,\u001b[0m \u001b[0;34m\"degrees\"\u001b[0m\u001b[0;34m,\u001b[0m \u001b[0ms\u001b[0m\u001b[0;34m)\u001b[0m\u001b[0;34m\u001b[0m\u001b[0;34m\u001b[0m\u001b[0m\n",
      "\u001b[0;31mTypeError\u001b[0m: cannot unpack non-iterable NoneType object"
     ]
    }
   ],
   "source": [
    "#1 c another example, I am showing the error on purpsoe, to show how the function has improved since we did it in class, becasue it is giving specific directions on what to do if you have inputted something wrong.\n",
    "def convert_temp(scale=None, source_temp=None):\n",
    "    if scale == \"F\":\n",
    "        return 'C', (source_temp - 32.0) * (5.0/9.0)\n",
    "    elif scale == \"C\":\n",
    "        return 'F', (source_temp * (9.0/5.0)) + 32.0\n",
    "    else:\n",
    "        print(\"Needs to be (F) or (C)!\")\n",
    "\n",
    "scale = input(\"Select (F) or (C): \" )\n",
    "source_temp = int(input(\"What is the temperature: \" ))\n",
    "s, m = convert_temp(scale, source_temp)\n",
    "print(source_temp, \"degrees\", scale, \"is\", m, \"degrees\", s)"
   ]
  },
  {
   "cell_type": "code",
   "execution_count": null,
   "metadata": {},
   "outputs": [],
   "source": [
    "#2 \n"
   ]
  },
  {
   "cell_type": "code",
   "execution_count": null,
   "metadata": {},
   "outputs": [],
   "source": []
  },
  {
   "cell_type": "code",
   "execution_count": null,
   "metadata": {},
   "outputs": [],
   "source": []
  },
  {
   "cell_type": "code",
   "execution_count": null,
   "metadata": {},
   "outputs": [],
   "source": []
  }
 ],
 "metadata": {
  "kernelspec": {
   "display_name": "Python 3",
   "language": "python",
   "name": "python3"
  },
  "language_info": {
   "codemirror_mode": {
    "name": "ipython",
    "version": 3
   },
   "file_extension": ".py",
   "mimetype": "text/x-python",
   "name": "python",
   "nbconvert_exporter": "python",
   "pygments_lexer": "ipython3",
   "version": "3.7.5"
  }
 },
 "nbformat": 4,
 "nbformat_minor": 2
}
