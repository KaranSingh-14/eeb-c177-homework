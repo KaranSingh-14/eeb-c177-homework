{
 "cells": [
  {
   "cell_type": "code",
   "execution_count": 2,
   "metadata": {},
   "outputs": [
    {
     "name": "stdout",
     "output_type": "stream",
     "text": [
      "What temperature is it in Faherenheit or Celsius? Celsius\n",
      " What is the temperature in Celsius37\n",
      "The temperature in Faherenheit is 124.2\n"
     ]
    }
   ],
   "source": [
    "#1a \n",
    "ks = input(\"What temperature is it in Faherenheit or Celsius? \")\n",
    "if ks == \"Celsius\":\n",
    "    xx = input(\" What is the temperature in Celsius\")\n",
    "    yy = (float(xx) + 32) *9/5\n",
    "    print(\"The temperature in Faherenheit is {}\".format(yy))\n",
    "    \n",
    "elif ks == \"Faherenheit\":\n",
    "    xx = input(\" What is the temperature in Faherenheit\")\n",
    "    yy = (float(xx) - 32) *5/9\n",
    "    print(\"The temperature in Celsius is {}\".format(yy))\n",
    "else:\n",
    "    print(\"{} is a not a valid formatting option\".format(ks))"
   ]
  },
  {
   "cell_type": "code",
   "execution_count": 13,
   "metadata": {},
   "outputs": [
    {
     "name": "stdout",
     "output_type": "stream",
     "text": [
      "What temperature is it in Faherenheit or Celsius? Celsius\n",
      " What is the temperature in Celsius47\n",
      "The temperature in Faherenheit is 142.2\n"
     ]
    }
   ],
   "source": [
    "#1b\n",
    "ks = input(\"What temperature is it in Faherenheit or Celsius? \")\n",
    "if xx.isdigit() == True:\n",
    "    if ks == \"Celsius\":\n",
    "        xx = input(\" What is the temperature in Celsius\")\n",
    "        yy = (float(xx) + 32) *9/5\n",
    "        print(\"The temperature in Faherenheit is {}\".format(yy))\n",
    "    \n",
    "    elif ks == \"Faherenheit\":\n",
    "        xx = input(\" What is the temperature in Faherenheit\")\n",
    "        yy = (float(xx) - 32) *5/9\n",
    "        print(\"The temperature in Celsius is {}\".format(yy))\n",
    "    else:print(\"Invalid, put number\")  \n",
    "else:\n",
    "    print(\"{} is a not a valid formatting option\".format(ks))\n",
    "      \n",
    "\n"
   ]
  },
  {
   "cell_type": "code",
   "execution_count": 3,
   "metadata": {},
   "outputs": [
    {
     "name": "stdout",
     "output_type": "stream",
     "text": [
      "Select (Faherenheit) or (Celsius): Celsius\n",
      "What is the temperature: 12\n",
      "12 degrees Celsius is 53.6 degrees Faherenheit\n"
     ]
    }
   ],
   "source": [
    "#1c example 1\n",
    "\n",
    "def convert_temp(scale=None, source_temp=None):\n",
    "    if scale == \"Faherenheit\":\n",
    "        return 'Celsius', (source_temp - 32.0) * (5.0/9.0)\n",
    "    elif scale == \"Celsius\":\n",
    "        return 'Faherenheit', (source_temp * (9.0/5.0)) + 32.0\n",
    "    else:\n",
    "        print(\"Needs to be (Faherenheit) or (Celsius)!\")\n",
    "\n",
    "scale = input(\"Select (Faherenheit) or (Celsius): \" )\n",
    "source_temp = int(input(\"What is the temperature: \" ))\n",
    "s, k = convert_temp(scale, source_temp)\n",
    "print(source_temp, \"degrees\", scale, \"is\", k, \"degrees\", s)"
   ]
  },
  {
   "cell_type": "code",
   "execution_count": 17,
   "metadata": {},
   "outputs": [
    {
     "name": "stdout",
     "output_type": "stream",
     "text": [
      "Select (F) or (C): K\n",
      "What is the temperature: 56\n",
      "Needs to be (F) or (C)!\n"
     ]
    },
    {
     "ename": "TypeError",
     "evalue": "cannot unpack non-iterable NoneType object",
     "output_type": "error",
     "traceback": [
      "\u001b[0;31m---------------------------------------------------------------------------\u001b[0m",
      "\u001b[0;31mTypeError\u001b[0m                                 Traceback (most recent call last)",
      "\u001b[0;32m<ipython-input-17-2ca0251d2b2c>\u001b[0m in \u001b[0;36m<module>\u001b[0;34m\u001b[0m\n\u001b[1;32m     10\u001b[0m \u001b[0mscale\u001b[0m \u001b[0;34m=\u001b[0m \u001b[0minput\u001b[0m\u001b[0;34m(\u001b[0m\u001b[0;34m\"Select (F) or (C): \"\u001b[0m \u001b[0;34m)\u001b[0m\u001b[0;34m\u001b[0m\u001b[0;34m\u001b[0m\u001b[0m\n\u001b[1;32m     11\u001b[0m \u001b[0msource_temp\u001b[0m \u001b[0;34m=\u001b[0m \u001b[0mint\u001b[0m\u001b[0;34m(\u001b[0m\u001b[0minput\u001b[0m\u001b[0;34m(\u001b[0m\u001b[0;34m\"What is the temperature: \"\u001b[0m \u001b[0;34m)\u001b[0m\u001b[0;34m)\u001b[0m\u001b[0;34m\u001b[0m\u001b[0;34m\u001b[0m\u001b[0m\n\u001b[0;32m---> 12\u001b[0;31m \u001b[0ms\u001b[0m\u001b[0;34m,\u001b[0m \u001b[0mm\u001b[0m \u001b[0;34m=\u001b[0m \u001b[0mconvert_temp\u001b[0m\u001b[0;34m(\u001b[0m\u001b[0mscale\u001b[0m\u001b[0;34m,\u001b[0m \u001b[0msource_temp\u001b[0m\u001b[0;34m)\u001b[0m\u001b[0;34m\u001b[0m\u001b[0;34m\u001b[0m\u001b[0m\n\u001b[0m\u001b[1;32m     13\u001b[0m \u001b[0mprint\u001b[0m\u001b[0;34m(\u001b[0m\u001b[0msource_temp\u001b[0m\u001b[0;34m,\u001b[0m \u001b[0;34m\"degrees\"\u001b[0m\u001b[0;34m,\u001b[0m \u001b[0mscale\u001b[0m\u001b[0;34m,\u001b[0m \u001b[0;34m\"is\"\u001b[0m\u001b[0;34m,\u001b[0m \u001b[0mm\u001b[0m\u001b[0;34m,\u001b[0m \u001b[0;34m\"degrees\"\u001b[0m\u001b[0;34m,\u001b[0m \u001b[0ms\u001b[0m\u001b[0;34m)\u001b[0m\u001b[0;34m\u001b[0m\u001b[0;34m\u001b[0m\u001b[0m\n",
      "\u001b[0;31mTypeError\u001b[0m: cannot unpack non-iterable NoneType object"
     ]
    }
   ],
   "source": [
    "#1 c another example, I am showing the error on purpsoe, to show how the function has improved since we did it in class, becasue it is giving specific directions on what to do if you have inputted something wrong.\n",
    "def convert_temp(scale=None, source_temp=None):\n",
    "    if scale == \"Faherenheit\":\n",
    "        return 'Celsius', (source_temp - 32.0) * (5.0/9.0)\n",
    "    elif scale == \"Celsius\":\n",
    "        return 'Faherenheit', (source_temp * (9.0/5.0)) + 32.0\n",
    "    else:\n",
    "        print(\"Needs to be (Faherenheit) or (Celsius)!\")\n",
    "\n",
    "scale = input(\"Select (Faherenheit) or (Celsius): \" )\n",
    "source_temp = int(input(\"What is the temperature: \" ))\n",
    "s, k = convert_temp(scale, source_temp)\n",
    "print(source_temp, \"degrees\", scale, \"is\", k, \"degrees\", s)"
   ]
  },
  {
   "cell_type": "code",
   "execution_count": 37,
   "metadata": {},
   "outputs": [
    {
     "ename": "FileNotFoundError",
     "evalue": "[Errno 2] No such file or directory: '/home/eebc177student/Developer/repos/eeb-c177-homework/lab-exercises/week-six/eeb-c177-hw8'",
     "output_type": "error",
     "traceback": [
      "\u001b[0;31m---------------------------------------------------------------------------\u001b[0m",
      "\u001b[0;31mFileNotFoundError\u001b[0m                         Traceback (most recent call last)",
      "\u001b[0;32m<ipython-input-37-a5f0b9fb2f3f>\u001b[0m in \u001b[0;36m<module>\u001b[0;34m\u001b[0m\n\u001b[1;32m      3\u001b[0m \u001b[0mdatapath\u001b[0m \u001b[0;34m=\u001b[0m \u001b[0;34m\"/home/eebc177student/Developer/repos/eeb-c177-homework/lab-exercises/week-six/eeb-c177-hw8\"\u001b[0m\u001b[0;34m\u001b[0m\u001b[0;34m\u001b[0m\u001b[0m\n\u001b[1;32m      4\u001b[0m \u001b[0mworkingdir\u001b[0m \u001b[0;34m=\u001b[0m \u001b[0;34m\"/home/eebc177student/Developer/repos/CSB/python/data\"\u001b[0m\u001b[0;34m\u001b[0m\u001b[0;34m\u001b[0m\u001b[0m\n\u001b[0;32m----> 5\u001b[0;31m \u001b[0mos\u001b[0m\u001b[0;34m.\u001b[0m\u001b[0mchdir\u001b[0m\u001b[0;34m(\u001b[0m\u001b[0mdatapath\u001b[0m\u001b[0;34m)\u001b[0m\u001b[0;34m\u001b[0m\u001b[0;34m\u001b[0m\u001b[0m\n\u001b[0m\u001b[1;32m      6\u001b[0m \u001b[0;32mwith\u001b[0m \u001b[0mopen\u001b[0m\u001b[0;34m(\u001b[0m\u001b[0;34m\"Dalziel2016_data.csv\"\u001b[0m\u001b[0;34m,\u001b[0m \u001b[0;34m\"r\"\u001b[0m\u001b[0;34m)\u001b[0m \u001b[0;32mas\u001b[0m \u001b[0mff\u001b[0m\u001b[0;34m:\u001b[0m\u001b[0;34m\u001b[0m\u001b[0;34m\u001b[0m\u001b[0m\n\u001b[1;32m      7\u001b[0m     \u001b[0;32mfor\u001b[0m \u001b[0mline\u001b[0m \u001b[0;32min\u001b[0m \u001b[0mff\u001b[0m\u001b[0;34m:\u001b[0m\u001b[0;34m\u001b[0m\u001b[0;34m\u001b[0m\u001b[0m\n",
      "\u001b[0;31mFileNotFoundError\u001b[0m: [Errno 2] No such file or directory: '/home/eebc177student/Developer/repos/eeb-c177-homework/lab-exercises/week-six/eeb-c177-hw8'"
     ]
    }
   ],
   "source": [
    "#2a \n",
    "import os \n",
    "datapath = \"/home/eebc177student/Developer/repos/eeb-c177-homework/lab-exercises/week-six/eeb-c177-hw8\"\n",
    "workingdir = \"/home/eebc177student/Developer/repos/CSB/python/data\"\n",
    "os.chdir(datapath)\n",
    "with open(\"Dalziel2016_data.csv\", \"r\") as ff:\n",
    "    for line in ff:\n",
    "        print(line)"
   ]
  },
  {
   "cell_type": "code",
   "execution_count": 30,
   "metadata": {},
   "outputs": [],
   "source": [
    "#2 a continued\n",
    "import csv\n",
    "os.chdir(datapath)\n",
    "with open(\"Dalziel2016_data.csv\") as fr:\n",
    "    reader = csv.DictReader(fr)\n",
    "    header = reader.fieldnames\n",
    "    os.chdir(datapath)\n",
    "    with open(\"Dalziel2016_Year.csv\", \"w\") as fw:\n",
    "        writer = csv.DictWriter(fw, fieldnames = header, delimiter = \",\")\n",
    "        os.chdir(datapath)\n",
    "        for row in reader:\n",
    "            if row[\"year\"] == \"1920\":\n",
    "                writer.writerow(row)\n"
   ]
  },
  {
   "cell_type": "code",
   "execution_count": 33,
   "metadata": {},
   "outputs": [],
   "source": [
    "#2b \n",
    "os.chdir(datapath)\n",
    "with open(\"Dalziel2016_data.csv\") as fr:\n",
    "    reader = csv.DictReader(fr)\n",
    "    header = reader.fieldnames\n",
    "    os.chdir(datapath)\n",
    "    with open(\"Dalziel2016_Washington.csv\", \"w\") as fw:\n",
    "        writer = csv.DictWriter(fw, fieldnames = header, delimiter = \",\")\n",
    "        os.chdir(datapath)\n",
    "        for row in reader:\n",
    "            if row[\"loc\"] == \"WASHINGTON\":\n",
    "                writer.writerow(row)"
   ]
  },
  {
   "cell_type": "code",
   "execution_count": 25,
   "metadata": {},
   "outputs": [
    {
     "ename": "TypeError",
     "evalue": "string indices must be integers",
     "output_type": "error",
     "traceback": [
      "\u001b[0;31m---------------------------------------------------------------------------\u001b[0m",
      "\u001b[0;31mTypeError\u001b[0m                                 Traceback (most recent call last)",
      "\u001b[0;32m<ipython-input-25-6f439fdbfb7a>\u001b[0m in \u001b[0;36m<module>\u001b[0;34m\u001b[0m\n\u001b[1;32m      1\u001b[0m \u001b[0;32mimport\u001b[0m \u001b[0mre\u001b[0m\u001b[0;34m\u001b[0m\u001b[0;34m\u001b[0m\u001b[0m\n\u001b[0;32m----> 2\u001b[0;31m \u001b[0mdatapath\u001b[0m\u001b[0;34m[\u001b[0m\u001b[0;34m'Dalziel2016_data.csv'\u001b[0m\u001b[0;34m]\u001b[0m\u001b[0;34m.\u001b[0m\u001b[0mfilter\u001b[0m\u001b[0;34m(\u001b[0m\u001b[0;32mlambda\u001b[0m \u001b[0;34m:\u001b[0m \u001b[0mre\u001b[0m\u001b[0;34m.\u001b[0m\u001b[0mmatch\u001b[0m\u001b[0;34m(\u001b[0m\u001b[0;34m'1920'\u001b[0m\u001b[0;34m)\u001b[0m\u001b[0;34m)\u001b[0m\u001b[0;34m\u001b[0m\u001b[0;34m\u001b[0m\u001b[0m\n\u001b[0m",
      "\u001b[0;31mTypeError\u001b[0m: string indices must be integers"
     ]
    }
   ],
   "source": []
  },
  {
   "cell_type": "code",
   "execution_count": null,
   "metadata": {},
   "outputs": [],
   "source": []
  }
 ],
 "metadata": {
  "kernelspec": {
   "display_name": "Python 3",
   "language": "python",
   "name": "python3"
  },
  "language_info": {
   "codemirror_mode": {
    "name": "ipython",
    "version": 3
   },
   "file_extension": ".py",
   "mimetype": "text/x-python",
   "name": "python",
   "nbconvert_exporter": "python",
   "pygments_lexer": "ipython3",
   "version": "3.7.5"
  }
 },
 "nbformat": 4,
 "nbformat_minor": 2
}
