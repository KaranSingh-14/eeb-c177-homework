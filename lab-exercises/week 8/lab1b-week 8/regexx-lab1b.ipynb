{
 "cells": [
  {
   "cell_type": "code",
   "execution_count": 15,
   "metadata": {},
   "outputs": [],
   "source": [
    "import re"
   ]
  },
  {
   "cell_type": "code",
   "execution_count": 14,
   "metadata": {},
   "outputs": [],
   "source": [
    "#goal return true if there are no special characters\n",
    "# if there are no special characters then return true\n",
    "def search_string(string):\n",
    "    charR = re.compile(r'[^A-Za-z0-9.\\s]')\n",
    "    string = charR.search(string)\n",
    "    return  not bool(string)\n",
    "    "
   ]
  },
  {
   "cell_type": "code",
   "execution_count": 16,
   "metadata": {},
   "outputs": [
    {
     "name": "stdout",
     "output_type": "stream",
     "text": [
      "True\n"
     ]
    }
   ],
   "source": [
    "print(search_string(\"ABD\"))"
   ]
  },
  {
   "cell_type": "code",
   "execution_count": 17,
   "metadata": {},
   "outputs": [
    {
     "name": "stdout",
     "output_type": "stream",
     "text": [
      "False\n"
     ]
    }
   ],
   "source": [
    "print(search_string(\"&&&&***\"))"
   ]
  },
  {
   "cell_type": "code",
   "execution_count": 5,
   "metadata": {},
   "outputs": [
    {
     "name": "stdout",
     "output_type": "stream",
     "text": [
      "['cat']\n"
     ]
    }
   ],
   "source": [
    "import re\n",
    "str = \"Sat, hat, cat, bat\"\n",
    "allstr = re.findall('[^Shb]at', str)\n",
    "print(allstr)"
   ]
  },
  {
   "cell_type": "code",
   "execution_count": 7,
   "metadata": {},
   "outputs": [
    {
     "name": "stdout",
     "output_type": "stream",
     "text": [
      "hat food mat pat\n"
     ]
    }
   ],
   "source": [
    "import re \n",
    "food = 'hat rat mat pat'\n",
    "regex = re.compile(\"[r]at\")\n",
    "food = regex.sub(\"food\", food)\n",
    "print(food)"
   ]
  },
  {
   "cell_type": "code",
   "execution_count": 13,
   "metadata": {},
   "outputs": [
    {
     "name": "stdout",
     "output_type": "stream",
     "text": [
      "['123-23', '345.44']\n"
     ]
    }
   ],
   "source": [
    "import re \n",
    "k = '''123-23\n",
    "345.44\n",
    "'''\n",
    "allk = re.findall('\\d\\d\\d[-.]\\d\\d' , k)\n",
    "print(allk)"
   ]
  }
 ],
 "metadata": {
  "kernelspec": {
   "display_name": "Python 3",
   "language": "python",
   "name": "python3"
  },
  "language_info": {
   "codemirror_mode": {
    "name": "ipython",
    "version": 3
   },
   "file_extension": ".py",
   "mimetype": "text/x-python",
   "name": "python",
   "nbconvert_exporter": "python",
   "pygments_lexer": "ipython3",
   "version": "3.7.5"
  }
 },
 "nbformat": 4,
 "nbformat_minor": 2
}
