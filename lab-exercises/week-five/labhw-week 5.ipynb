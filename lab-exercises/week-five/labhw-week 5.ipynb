{
 "cells": [
  {
   "cell_type": "code",
   "execution_count": null,
   "metadata": {},
   "outputs": [],
   "source": [
    "import numpy as np\n",
    "data = np.loadtxt(fname='../week-four/inflammation-01.csv', delimiter=',')\n",
    "print(data)"
   ]
  },
  {
   "cell_type": "code",
   "execution_count": null,
   "metadata": {},
   "outputs": [],
   "source": [
    "import matplotlib.pyplot as plt "
   ]
  },
  {
   "cell_type": "code",
   "execution_count": null,
   "metadata": {},
   "outputs": [],
   "source": [
    "ave_inflammation = np.mean(data, axis=0)\n",
    "ave_plot = plt.plot(ave_inflammation)\n",
    "plt.xlabel('time in days')\n",
    "plt.ylabel('patient inflammation score')\n",
    "plt.title('patient data')\n",
    "plt.show()"
   ]
  },
  {
   "cell_type": "code",
   "execution_count": null,
   "metadata": {},
   "outputs": [],
   "source": [
    "fig = plt.figure(figsize=(10.0, 10.0))\n",
    "\n",
    "fig.suptitle('Patient Scores', va='bottom', fontsize=16)\n",
    "\n",
    "sbplot1 = fig.add_subplot(3, 1, 1)\n",
    "sbplot2 = fig.add_subplot(3,1,2)\n",
    "sbplot3 = fig.add_subplot(3,1,3)\n",
    "\n",
    "sbplot1.set_ylabel('average')\n",
    "sbplot1.plot(np.mean(data, axis=0), '--')\n",
    "\n",
    "sbplot2.set_xlabel('Time (days)')\n",
    "sbplot2.set_ylabel('max')\n",
    "sbplot2.plot(np.max(data, axis=0), '-o')\n",
    "\n",
    "sbplot3.set_ylabel('min')\n",
    "sbplot3.plot(np.min(data, axis=0), '-*')\n",
    "\n",
    "\n",
    "fig.tight_layout()\n",
    "\n",
    "plt.show()"
   ]
  },
  {
   "cell_type": "markdown",
   "metadata": {},
   "source": [
    "## Part 2"
   ]
  },
  {
   "cell_type": "code",
   "execution_count": null,
   "metadata": {},
   "outputs": [],
   "source": []
  },
  {
   "cell_type": "code",
   "execution_count": null,
   "metadata": {},
   "outputs": [],
   "source": []
  },
  {
   "cell_type": "code",
   "execution_count": null,
   "metadata": {},
   "outputs": [],
   "source": []
  },
  {
   "cell_type": "code",
   "execution_count": null,
   "metadata": {},
   "outputs": [],
   "source": []
  },
  {
   "cell_type": "code",
   "execution_count": null,
   "metadata": {},
   "outputs": [],
   "source": []
  },
  {
   "cell_type": "code",
   "execution_count": null,
   "metadata": {},
   "outputs": [],
   "source": []
  },
  {
   "cell_type": "markdown",
   "metadata": {},
   "source": [
    "## Part 4"
   ]
  },
  {
   "cell_type": "code",
   "execution_count": null,
   "metadata": {},
   "outputs": [],
   "source": [
    "#1\n",
    "if 4 > 5:\n",
    " print('A')\n",
    "elif 4 == 5:\n",
    " print('B')\n",
    "elif 4 < 5:\n",
    " print('C')\n",
    "#This would print c because 4 is less than 5. "
   ]
  },
  {
   "cell_type": "code",
   "execution_count": null,
   "metadata": {},
   "outputs": [],
   "source": []
  },
  {
   "cell_type": "code",
   "execution_count": null,
   "metadata": {},
   "outputs": [],
   "source": [
    "#2 \n",
    "sentence = input(\"Write sentence here\")\n",
    "Number_counter = {i:0 for i in 'aeiouOUIEA'}\n",
    "for ii in sentence:\n",
    "    if ii in Number_counter:\n",
    "        Number_counter[ii]+= 1\n",
    "print(sum(variable.values()))\n",
    "\n",
    "    "
   ]
  },
  {
   "cell_type": "code",
   "execution_count": null,
   "metadata": {},
   "outputs": [],
   "source": []
  },
  {
   "cell_type": "code",
   "execution_count": null,
   "metadata": {},
   "outputs": [],
   "source": []
  }
 ],
 "metadata": {
  "kernelspec": {
   "display_name": "Python 3",
   "language": "python",
   "name": "python3"
  },
  "language_info": {
   "codemirror_mode": {
    "name": "ipython",
    "version": 3
   },
   "file_extension": ".py",
   "mimetype": "text/x-python",
   "name": "python",
   "nbconvert_exporter": "python",
   "pygments_lexer": "ipython3",
   "version": "3.7.5"
  }
 },
 "nbformat": 4,
 "nbformat_minor": 2
}
