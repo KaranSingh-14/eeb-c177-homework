{
 "cells": [
  {
   "cell_type": "code",
   "execution_count": 1,
   "metadata": {},
   "outputs": [
    {
     "name": "stdout",
     "output_type": "stream",
     "text": [
      "Original dictionary :  {1: 2, 3: 4, 4: 3, 2: 1, 0: 0}\n",
      "Dictionary in ascending order by value :  [(0, 0), (2, 1), (1, 2), (4, 3), (3, 4)]\n",
      "Dictionary in descending order by value :  {3: 4, 4: 3, 1: 2, 2: 1, 0: 0}\n"
     ]
    }
   ],
   "source": [
    "#1\n",
    "\n",
    "import operator\n",
    "#We want an operator because they can used to carry out arithmetic or logical compuattaion such as figuring out asceding and descending order.\n",
    "\n",
    "d = {1: 2, 3: 4, 4: 3, 2: 1, 0: 0}\n",
    "#The d is the dictionary and the first number in the brackets is known as a key which takes a single argument and returns a value that can be used for sorting purposes.\n",
    "\n",
    "print('Original dictionary : ',d)\n",
    "#prints command\n",
    "sorted_d = sorted(d.items(), key=operator.itemgetter(1))\n",
    "#Itemgetter constructs a callable that assumes an iterable object as input and retrieves whatever element you have put into itemport operator\n",
    "print('Dictionary in ascending order by value : ',sorted_d)\n",
    "sorted_d = dict( sorted(d.items(), key=operator.itemgetter(1),reverse=True))\n",
    "#Also since reverse is set to true that means the dictionary will sort in descending order.\n",
    "print('Dictionary in descending order by value : ',sorted_d)\n",
    "#prints command "
   ]
  },
  {
   "cell_type": "code",
   "execution_count": 2,
   "metadata": {},
   "outputs": [
    {
     "name": "stdout",
     "output_type": "stream",
     "text": [
      "{0: 10, 1: 20}\n",
      "{0: 10, 1: 20, 2: 30}\n"
     ]
    }
   ],
   "source": [
    "#2\n",
    "\n",
    "d = {0:10, 1:20}\n",
    "#current dictionary list\n",
    "print(d)\n",
    "d.update({2:30})\n",
    "#we want input a key value of 2 into the dictionary, we have to update the current dictionary and add this input and the value of 30,so the next time we call this dictionary list\n",
    "print(d)"
   ]
  },
  {
   "cell_type": "code",
   "execution_count": 3,
   "metadata": {},
   "outputs": [
    {
     "name": "stdout",
     "output_type": "stream",
     "text": [
      "{1: 10, 2: 20, 3: 30, 4: 40, 5: 50, 6: 60}\n"
     ]
    }
   ],
   "source": [
    "#3\n",
    "\n",
    "\n",
    "dic1={1:10, 2:20}\n",
    "dic2={3:30, 4:40}\n",
    "dic3={5:50,6:60}\n",
    "dic4 = {}\n",
    "#create the dictionaries that we want and list them and have the last one be open in the sense that it can take in any value \n",
    "\n",
    "for d in (dic1, dic2, dic3): dic4.update(d)\n",
    "#this is important for the for loop as it ends at the last command and since we want to cancatenate the files, they can all end up in dictionary 4.\n",
    "print(dic4)"
   ]
  },
  {
   "cell_type": "code",
   "execution_count": 4,
   "metadata": {},
   "outputs": [
    {
     "name": "stdout",
     "output_type": "stream",
     "text": [
      "Key is present in the dictionary\n",
      "Key is not present in the dictionary\n"
     ]
    }
   ],
   "source": [
    "#4\n",
    "d = {1: 10, 2: 20, 3: 30, 4: 40, 5: 50, 6: 60}\n",
    "def is_key_present(x):\n",
    "  if x in d:\n",
    "#we create a dictionary and then define it as a fucntion to see whetehr or not a key is present with the if and else statements.\n",
    "    print('Key is present in the dictionary')\n",
    "  else:\n",
    "      print('Key is not present in the dictionary')\n",
    "is_key_present(5)\n",
    "is_key_present(9)\n",
    "#If it is present in the dictionary then we can use the print fucntion to say it is present.\n",
    "#Or else when the key isn't present such as 9 then we say it is not present."
   ]
  },
  {
   "cell_type": "code",
   "execution_count": 5,
   "metadata": {},
   "outputs": [
    {
     "name": "stdout",
     "output_type": "stream",
     "text": [
      "x -> 10\n",
      "y -> 20\n",
      "z -> 30\n"
     ]
    }
   ],
   "source": [
    "#5\n",
    "d = {'x': 10, 'y': 20, 'z': 30} \n",
    "#dictionary list\n",
    "for dict_key, dict_value in d.items():\n",
    "    print(dict_key,'->',dict_value)\n",
    "#The items() command grabs each key and value separately in the for loop and places each key and value with its corresponding component\n",
    "#The value command in this case simply lsiting the designated value that was already assigned to its key"
   ]
  },
  {
   "cell_type": "code",
   "execution_count": 6,
   "metadata": {},
   "outputs": [
    {
     "name": "stdout",
     "output_type": "stream",
     "text": [
      "Input a number 10\n",
      "{1: 1, 2: 4, 3: 9, 4: 16, 5: 25, 6: 36, 7: 49, 8: 64, 9: 81, 10: 100}\n"
     ]
    }
   ],
   "source": [
    "#6\n",
    "n=int(input(\"Input a number \"))\n",
    "d = dict()\n",
    "#we can input an integer into the dictionary function by having a for loop iterration\n",
    "\n",
    "n=int(input(\"Input a number \"))\n",
    "d = dict()\n",
    "\n",
    "#But it is important to note that in we have to create a range from 1 to 11 because 11 is the \"kill\" function so the range will only go from 1-10 since I decided to have my input as 10.\n",
    "for x in range(1,n+1):\n",
    "    d[x]=x*x\n",
    "\n",
    "print(d) \n",
    "#Then within the for loop we set our dictionary function 'x'(the input) and getting an output of 'x*x' for the range of 0 to 10.\n"
   ]
  },
  {
   "cell_type": "code",
   "execution_count": 7,
   "metadata": {},
   "outputs": [
    {
     "name": "stdout",
     "output_type": "stream",
     "text": [
      "{1: 1, 2: 4, 3: 9, 4: 16, 5: 25, 6: 36, 7: 49, 8: 64, 9: 81, 10: 100, 11: 121, 12: 144, 13: 169, 14: 196, 15: 225}\n"
     ]
    }
   ],
   "source": [
    "#7\n",
    "# In order to include 1 through 15, we have to create a range 1-16 because 16 is the kill condition and will not be included.\n",
    "# This is all done in the dictionary command, which gets put into a for loop for integers 1-15 and each input is getting sqaured by **2 function.\n",
    "d=dict()\n",
    "for x in range(1,16):\n",
    "    d[x]=x**2\n",
    "print(d)  \n",
    " "
   ]
  },
  {
   "cell_type": "code",
   "execution_count": 9,
   "metadata": {},
   "outputs": [
    {
     "name": "stdout",
     "output_type": "stream",
     "text": [
      "{'a': 100, 'b': 200, 'x': 300, 'y': 200}\n"
     ]
    }
   ],
   "source": [
    "#8\n",
    "d1 = {'a': 100, 'b': 200}\n",
    "d2 = {'x': 300, 'y': 200}\n",
    "#In order to merge two dictionaries, we need to list out the two dictionaries\n",
    "\n",
    "d = d1.copy()\n",
    "d.update(d2)\n",
    "print(d)\n",
    "#then we want to create a dictionary that has d1 being copied and merged into d2 by the update () command.\n",
    "\n"
   ]
  },
  {
   "cell_type": "code",
   "execution_count": 10,
   "metadata": {},
   "outputs": [
    {
     "name": "stdout",
     "output_type": "stream",
     "text": [
      "Red corresponds to  1\n",
      "Green corresponds to  2\n",
      "Blue corresponds to  3\n"
     ]
    }
   ],
   "source": [
    "#9\n",
    "d = {'Red': 1, 'Green': 2, 'Blue': 3} \n",
    "# So we create a dictionary have a ceratin amount of keys and their corresponding values\n",
    "\n",
    "for color_key, value in d.items():\n",
    "     print(color_key, 'corresponds to ', d[color_key])\n",
    "        \n",
    "# then create a for loop that accounts for the color keys in the dictionary items command which returns designated keys and values\n"
   ]
  },
  {
   "cell_type": "code",
   "execution_count": 11,
   "metadata": {},
   "outputs": [
    {
     "name": "stdout",
     "output_type": "stream",
     "text": [
      "293\n"
     ]
    }
   ],
   "source": [
    "#10\n",
    "my_dict = {'data1':100,'data2':-54,'data3':247}\n",
    "#create a dictionary that has different keys(data#) and values \n",
    "\n",
    "print(sum(my_dict.values()))\n",
    "#and then use the dict.values command to configure the aritmetic\n",
    "\n",
    "\n"
   ]
  }
 ],
 "metadata": {
  "kernelspec": {
   "display_name": "Python 3",
   "language": "python",
   "name": "python3"
  },
  "language_info": {
   "codemirror_mode": {
    "name": "ipython",
    "version": 3
   },
   "file_extension": ".py",
   "mimetype": "text/x-python",
   "name": "python",
   "nbconvert_exporter": "python",
   "pygments_lexer": "ipython3",
   "version": "3.7.5"
  }
 },
 "nbformat": 4,
 "nbformat_minor": 2
}
