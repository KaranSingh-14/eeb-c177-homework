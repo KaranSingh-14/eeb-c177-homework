{
 "cells": [
  {
   "cell_type": "code",
   "execution_count": 1,
   "metadata": {},
   "outputs": [],
   "source": [
    "GenomeSize = {\"Homo sapiens\": 3200.0, \"Escherichia coli\": 4.6, \"Arabidopis thaliana\": 157.0}"
   ]
  },
  {
   "cell_type": "code",
   "execution_count": 3,
   "metadata": {},
   "outputs": [
    {
     "data": {
      "text/plain": [
       "dict_keys(['Homo sapiens', 'Escherichia coli', 'Arabidopis thaliana'])"
      ]
     },
     "execution_count": 3,
     "metadata": {},
     "output_type": "execute_result"
    }
   ],
   "source": [
    "GenomeSize.keys()"
   ]
  },
  {
   "cell_type": "code",
   "execution_count": 28,
   "metadata": {},
   "outputs": [
    {
     "data": {
      "text/plain": [
       "['spam', 'spam', 'spam', 'spam', 'spam', 'spam', 'spam', 'eggs', 'spam']"
      ]
     },
     "execution_count": 28,
     "metadata": {},
     "output_type": "execute_result"
    }
   ],
   "source": [
    "from collections import defaultdict\n",
    "\n",
    "food_list = 'spam spam spam spam spam spam spam eggs spam'.split()\n",
    "food_list"
   ]
  },
  {
   "cell_type": "code",
   "execution_count": 14,
   "metadata": {},
   "outputs": [
    {
     "name": "stdout",
     "output_type": "stream",
     "text": [
      "Homo sapiens : 3200.0\n",
      "Escherichia coli : 4.6\n",
      "Arabidopis thaliana : 157.0\n"
     ]
    }
   ],
   "source": [
    "for species, size in GenomeSize.items():\n",
    "    print(species + \" : \" +str(size))"
   ]
  },
  {
   "cell_type": "code",
   "execution_count": 21,
   "metadata": {},
   "outputs": [
    {
     "name": "stdout",
     "output_type": "stream",
     "text": [
      "the genome size ofHomo sapiensis 3200.0\n",
      "the genome size ofEscherichia coliis 4.6\n",
      "the genome size ofArabidopis thalianais 157.0\n"
     ]
    }
   ],
   "source": [
    "for key in GenomeSize.keys():\n",
    "    print(\"the genome size of\" + key + 'is ' + str(GenomeSize[key]))"
   ]
  },
  {
   "cell_type": "code",
   "execution_count": 30,
   "metadata": {},
   "outputs": [
    {
     "data": {
      "text/plain": [
       "dict_keys(['Homo sapiens', 'Escherichia coli', 'Arabidopis thaliana', 'triggerfish'])"
      ]
     },
     "execution_count": 30,
     "metadata": {},
     "output_type": "execute_result"
    }
   ],
   "source": [
    "GenomeSize[\"triggerfish\"] = 100.0\n",
    "GenomeSize.keys()"
   ]
  },
  {
   "cell_type": "code",
   "execution_count": 31,
   "metadata": {},
   "outputs": [
    {
     "data": {
      "text/plain": [
       "4.6"
      ]
     },
     "execution_count": 31,
     "metadata": {},
     "output_type": "execute_result"
    }
   ],
   "source": [
    "GenomeSize.get(\"Escherichia coli\")"
   ]
  },
  {
   "cell_type": "code",
   "execution_count": 29,
   "metadata": {},
   "outputs": [],
   "source": [
    "food_count = defaultdict(int) #default value of an integer is 0\n",
    "for food in food_list:\n",
    "    food_count[food] += 1 #increment element's value by 1\n"
   ]
  },
  {
   "cell_type": "code",
   "execution_count": 33,
   "metadata": {},
   "outputs": [
    {
     "name": "stdout",
     "output_type": "stream",
     "text": [
      "Homo sapiens 3200.0\n",
      "Escherichia coli 4.6\n",
      "Arabidopis thaliana 157.0\n",
      "triggerfish 100.0\n"
     ]
    }
   ],
   "source": [
    "for k,v in GenomeSize.items():\n",
    "    print(k,v)"
   ]
  },
  {
   "cell_type": "code",
   "execution_count": 40,
   "metadata": {},
   "outputs": [
    {
     "data": {
      "text/plain": [
       "dict_items([('Modern', 'M'), ('Day', 'D'), ('Khalsa', 'K')])"
      ]
     },
     "execution_count": 40,
     "metadata": {},
     "output_type": "execute_result"
    }
   ],
   "source": [
    "list1 = ('Modern', 'Day' ,'Khalsa')\n",
    "list2 = ('M', 'D', 'K')\n",
    "Karan_dict = dict(zip(list1, list2))\n",
    "Karan_dict.items()"
   ]
  },
  {
   "cell_type": "code",
   "execution_count": 41,
   "metadata": {},
   "outputs": [
    {
     "data": {
      "text/plain": [
       "{5, 6, 7, 8, 9}"
      ]
     },
     "execution_count": 41,
     "metadata": {},
     "output_type": "execute_result"
    }
   ],
   "source": [
    "a = [5,6,7,7,7, 8,9,9]\n",
    "b= set(a)\n",
    "b"
   ]
  },
  {
   "cell_type": "code",
   "execution_count": 42,
   "metadata": {},
   "outputs": [
    {
     "data": {
      "text/plain": [
       "5"
      ]
     },
     "execution_count": 42,
     "metadata": {},
     "output_type": "execute_result"
    }
   ],
   "source": [
    "aa = [1,1, 2,3,5,8,8,8,8]\n",
    "bb = set(aa)\n",
    "len(bb)"
   ]
  },
  {
   "cell_type": "code",
   "execution_count": 47,
   "metadata": {},
   "outputs": [
    {
     "data": {
      "text/plain": [
       "5"
      ]
     },
     "execution_count": 47,
     "metadata": {},
     "output_type": "execute_result"
    }
   ],
   "source": [
    "len(set(aa))"
   ]
  },
  {
   "cell_type": "code",
   "execution_count": 53,
   "metadata": {},
   "outputs": [],
   "source": [
    "tuple_example = ( \"a\", \"b\", \"c\")\n",
    "list_example = ('a', 'b', 'c')"
   ]
  },
  {
   "cell_type": "code",
   "execution_count": 50,
   "metadata": {},
   "outputs": [],
   "source": [
    "Foodweb= [(\"a\", \"b\"), (\"a\", \"c\"), (\"b\", \"c\"), (\"c\", \"c\")]\n",
    "a=[5,6,7,7,7,7,8,9,9]\n",
    "b=set(a)\n",
    "\n",
    "c=set([3,4,5,6])"
   ]
  },
  {
   "cell_type": "code",
   "execution_count": 58,
   "metadata": {},
   "outputs": [
    {
     "name": "stdout",
     "output_type": "stream",
     "text": [
      "Homo sapiens is an ape\n",
      "Pan trogodytes is an ape\n",
      "Gorilla gorilla is an ape\n"
     ]
    }
   ],
   "source": [
    "apes = [ \"Homo sapiens\", \"Pan trogodytes\", \"Gorilla gorilla\"]\n",
    "for ape in apes:\n",
    "    print( ape + \" is an ape\")"
   ]
  },
  {
   "cell_type": "code",
   "execution_count": 60,
   "metadata": {},
   "outputs": [
    {
     "name": "stdout",
     "output_type": "stream",
     "text": [
      "1\n",
      "2\n",
      "3\n",
      "4\n",
      "5\n"
     ]
    }
   ],
   "source": [
    "nn = [1,2,3,4,5,]\n",
    "for number in nn:\n",
    "    print(number)"
   ]
  },
  {
   "cell_type": "code",
   "execution_count": 63,
   "metadata": {},
   "outputs": [
    {
     "name": "stdout",
     "output_type": "stream",
     "text": [
      "1\n",
      "2\n",
      "3\n",
      "4\n",
      "5\n"
     ]
    }
   ],
   "source": [
    "for ii in range(5):\n",
    "    print(ii +1)"
   ]
  },
  {
   "cell_type": "code",
   "execution_count": 67,
   "metadata": {},
   "outputs": [
    {
     "name": "stdout",
     "output_type": "stream",
     "text": [
      "Homo sapiens is an ape. Its name starts with H\n",
      "Pan trogodytes is an ape. Its name starts with P\n",
      "Gorilla gorilla is an ape. Its name starts with G\n"
     ]
    }
   ],
   "source": [
    "for ape in apes:\n",
    "    name_length = len(ape)\n",
    "    first_letter = ape[0]\n",
    "    print(ape + \" is an ape. Its name starts with \" + first_letter)\n"
   ]
  }
 ],
 "metadata": {
  "kernelspec": {
   "display_name": "Python 3",
   "language": "python",
   "name": "python3"
  },
  "language_info": {
   "codemirror_mode": {
    "name": "ipython",
    "version": 3
   },
   "file_extension": ".py",
   "mimetype": "text/x-python",
   "name": "python",
   "nbconvert_exporter": "python",
   "pygments_lexer": "ipython3",
   "version": "3.7.5"
  }
 },
 "nbformat": 4,
 "nbformat_minor": 2
}
