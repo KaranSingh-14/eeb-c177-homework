{
 "cells": [
  {
   "cell_type": "code",
   "execution_count": 7,
   "metadata": {},
   "outputs": [],
   "source": [
    "import csv\n",
    "\n",
    "with open(\"fishdata.csv\") as fr:\n",
    "    reader = csv.DictReader(fr)\n",
    "    header = reader.fieldnames\n",
    "\n",
    "    with open(\"fishdata_Labridae.csv\", \"w\") as fw:\n",
    "        writer = csv.DictWriter(fw, fieldnames = header, delimiter = \",\")\n",
    "\n",
    "        for row in reader:\n",
    "            if row[\"family\"] == \"Labridae\":\n",
    "                writer.writerow(row)"
   ]
  },
  {
   "cell_type": "code",
   "execution_count": 8,
   "metadata": {},
   "outputs": [
    {
     "name": "stdout",
     "output_type": "stream",
     "text": [
      "26.94777777777778\n"
     ]
    }
   ],
   "source": [
    "import numpy as np\n",
    "numbs = []\n",
    "with open('fishdata_Labridae.csv', 'r') as file:\n",
    "    means = csv.reader(file)\n",
    "    for ii in means:\n",
    "        if ii[3] != 'NA':\n",
    "            numbs.append(float(ii[3])) \n",
    "            \n",
    "mean_numbs = np.mean(numbs)\n",
    "print(mean_numbs)"
   ]
  },
  {
   "cell_type": "code",
   "execution_count": 9,
   "metadata": {},
   "outputs": [
    {
     "name": "stdout",
     "output_type": "stream",
     "text": [
      "[25.0, 62.0, 42.0, 31.0, 22.0, 20.0, 18.0, 12.6, 25.0, 40.0, 43.0, 21.5, 18.0, 18.0, 45.0, 40.0, 17.0, 45.0, 229.0, 50.0, 38.0, 25.6, 30.0, 28.2, 100.0, 8.0, 30.0, 14.0, 120.0, 17.0, 20.0, 50.8, 40.0, 30.0, 25.0, 15.0, 18.0, 20.0, 20.0, 32.3, 10.0, 18.5, 54.0, 30.0, 30.0, 12.0, 23.0, 8.9, 12.0, 35.0, 15.0, 7.7, 17.5, 19.0, 12.0, 30.0, 25.0, 19.3, 18.0, 27.0, 7.0, 14.0, 12.0, 13.0, 18.0, 12.5, 18.0, 13.0, 12.0, 24.0, 12.0, 12.0, 38.0, 14.0, 25.4, 18.0, 12.0, 13.0, 18.5, 20.0, 13.0, 51.0, 19.0, 23.1, 21.4, 20.0, 38.0, 4.7, 18.0, 27.0, 80.0, 90.0, 40.0, 50.0, 24.0, 17.5, 15.0, 14.0, 9.0, 10.5, 65.9, 45.0, 40.0, 91.0, 15.0, 11.5, 13.0, 13.0, 7.6, 11.5, 15.0, 10.0, 15.0, 12.0, 13.0, 38.0, 23.0, 50.0, 15.0, 30.0, 40.0, 15.0, 24.0, 40.0, 46.0, 25.0, 23.0, 14.0, 20.0, 16.0, 30.0, 13.0, 12.3, 9.7, 25.0, 9.5, 70.0, 91.0, 14.0, 15.0, 15.0, 15.0, 16.0, 20.0, 16.0, 10.0, 18.0, 14.0, 28.0, 12.0, 17.0, 13.0, 44.0, 91.0, 38.0, 16.0, 10.0, 39.5, 25.0, 20.0, 28.0, 20.0, 20.0, 23.0, 20.0, 18.0, 25.0, 30.0, 13.3, 25.0, 46.0, 17.0, 7.8, 31.0, 30.0, 8.0, 12.0, 15.0, 38.0, 17.5]\n"
     ]
    }
   ],
   "source": [
    "new_numbs = []\n",
    "for xx in numbs:\n",
    "    if xx != 'NA':\n",
    "        if xx != 'A':\n",
    "            if xx != 'N':\n",
    "                new_numbs.append(xx)\n",
    "print(new_numbs)"
   ]
  },
  {
   "cell_type": "markdown",
   "metadata": {},
   "source": [
    "# Thursday Lecture "
   ]
  },
  {
   "cell_type": "code",
   "execution_count": 1,
   "metadata": {},
   "outputs": [],
   "source": [
    "mystring = \"This string has X characters\""
   ]
  },
  {
   "cell_type": "code",
   "execution_count": 4,
   "metadata": {},
   "outputs": [],
   "source": [
    "mylist = [\"2\", 2, \"two\"]"
   ]
  },
  {
   "cell_type": "code",
   "execution_count": 6,
   "metadata": {},
   "outputs": [],
   "source": [
    "def strLen(ss):\n",
    "    sl = len(ss)\n",
    "    print( \"the length of the string is {}\".format(sl))"
   ]
  },
  {
   "cell_type": "code",
   "execution_count": 8,
   "metadata": {},
   "outputs": [
    {
     "name": "stdout",
     "output_type": "stream",
     "text": [
      "the length of the string is 3\n"
     ]
    }
   ],
   "source": [
    "strLen(mylist)"
   ]
  },
  {
   "cell_type": "code",
   "execution_count": 9,
   "metadata": {},
   "outputs": [
    {
     "name": "stdout",
     "output_type": "stream",
     "text": [
      "the length of the string is 28\n"
     ]
    }
   ],
   "source": [
    "strLen(mystring)"
   ]
  },
  {
   "cell_type": "code",
   "execution_count": 10,
   "metadata": {},
   "outputs": [
    {
     "name": "stdout",
     "output_type": "stream",
     "text": [
      "the length of the string is 3\n"
     ]
    }
   ],
   "source": [
    "strLen(\"cat\")"
   ]
  },
  {
   "cell_type": "code",
   "execution_count": 21,
   "metadata": {},
   "outputs": [],
   "source": [
    "dna = \"ATGGGGGGGGAT\""
   ]
  },
  {
   "cell_type": "code",
   "execution_count": 22,
   "metadata": {},
   "outputs": [
    {
     "data": {
      "text/plain": [
       "2"
      ]
     },
     "execution_count": 22,
     "metadata": {},
     "output_type": "execute_result"
    }
   ],
   "source": [
    "dna.count(\"A\")"
   ]
  },
  {
   "cell_type": "code",
   "execution_count": 48,
   "metadata": {},
   "outputs": [],
   "source": [
    "def get_at_content(dna):\n",
    "    dna = dna.upper()\n",
    "    length = len(dna)\n",
    "    a_count= dna.count('A')\n",
    "    t_count= dna.count('T')\n",
    "    at_content = (a_count + t_count) / length\n",
    "    return round(at_content, 2)"
   ]
  },
  {
   "cell_type": "code",
   "execution_count": 49,
   "metadata": {},
   "outputs": [
    {
     "data": {
      "text/plain": [
       "0.33"
      ]
     },
     "execution_count": 49,
     "metadata": {},
     "output_type": "execute_result"
    }
   ],
   "source": [
    "get_at_content('ATGGGGGGGGAT')"
   ]
  },
  {
   "cell_type": "code",
   "execution_count": 50,
   "metadata": {},
   "outputs": [],
   "source": [
    "atcount1 = get_at_content('ATGGGGGGGGAT')\n",
    "atcount2 = get_at_content('ATGGGGAGGGAT')"
   ]
  },
  {
   "cell_type": "code",
   "execution_count": 51,
   "metadata": {},
   "outputs": [
    {
     "data": {
      "text/plain": [
       "True"
      ]
     },
     "execution_count": 51,
     "metadata": {},
     "output_type": "execute_result"
    }
   ],
   "source": [
    "atcount1 < atcount2"
   ]
  },
  {
   "cell_type": "code",
   "execution_count": 52,
   "metadata": {},
   "outputs": [
    {
     "name": "stdout",
     "output_type": "stream",
     "text": [
      "0.46\n"
     ]
    }
   ],
   "source": [
    "my_at_content = get_at_content(\"ATGCGATTGACGG\")\n",
    "print(str(my_at_content)) #gives output of 0.46"
   ]
  },
  {
   "cell_type": "code",
   "execution_count": 53,
   "metadata": {},
   "outputs": [
    {
     "name": "stdout",
     "output_type": "stream",
     "text": [
      "0.46\n",
      "0.31\n"
     ]
    }
   ],
   "source": [
    "print(get_at_content(\"ATGCGATTGACGG\"))\n",
    "print(get_at_content(\"acggtggccggaa\"))"
   ]
  },
  {
   "cell_type": "code",
   "execution_count": 54,
   "metadata": {},
   "outputs": [
    {
     "data": {
      "text/plain": [
       "3.14"
      ]
     },
     "execution_count": 54,
     "metadata": {},
     "output_type": "execute_result"
    }
   ],
   "source": [
    "from math import pi\n",
    "pi\n",
    "round(pi,2)\n"
   ]
  },
  {
   "cell_type": "code",
   "execution_count": 89,
   "metadata": {},
   "outputs": [],
   "source": [
    "def get_at_content(dna, sigfig=2):\n",
    "    dna = dna.upper()\n",
    "    length = len(dna)\n",
    "    total= len(dna)- dna.count('N')\n",
    "    a_count= dna.count('A')\n",
    "    t_count= dna.count('T')\n",
    "    n_count= dna.count('N')\n",
    "    at_content = (a_count + t_count) / length\n",
    "    return round(at_content, sigfig)"
   ]
  },
  {
   "cell_type": "code",
   "execution_count": 90,
   "metadata": {},
   "outputs": [
    {
     "data": {
      "text/plain": [
       "0.3333"
      ]
     },
     "execution_count": 90,
     "metadata": {},
     "output_type": "execute_result"
    }
   ],
   "source": [
    "get_at_content('ATGGGGGGGGAT', 4)"
   ]
  },
  {
   "cell_type": "code",
   "execution_count": 80,
   "metadata": {},
   "outputs": [
    {
     "data": {
      "text/plain": [
       "0.3333333"
      ]
     },
     "execution_count": 80,
     "metadata": {},
     "output_type": "execute_result"
    }
   ],
   "source": [
    "get_at_content('ATGGGGGGGGAT', 7)"
   ]
  },
  {
   "cell_type": "code",
   "execution_count": 81,
   "metadata": {},
   "outputs": [],
   "source": [
    "def outOfOrder(number, pet):\n",
    "    print(\"I own {} {}s \".format(number, pet))"
   ]
  },
  {
   "cell_type": "code",
   "execution_count": 82,
   "metadata": {},
   "outputs": [
    {
     "name": "stdout",
     "output_type": "stream",
     "text": [
      "I own 3 dogs \n",
      "I own dog 3s \n"
     ]
    }
   ],
   "source": [
    "outOfOrder( 3, \"dog\")\n",
    "outOfOrder(\"dog\", 3)"
   ]
  },
  {
   "cell_type": "code",
   "execution_count": 83,
   "metadata": {},
   "outputs": [],
   "source": [
    "def outOfOrder(number=3, pet=\"raccoon\"):\n",
    "    print(\"I own{} {}s \".format(number, pet))"
   ]
  },
  {
   "cell_type": "code",
   "execution_count": 84,
   "metadata": {},
   "outputs": [],
   "source": [
    "assert get_at_content('ATGC') == 0.5"
   ]
  },
  {
   "cell_type": "code",
   "execution_count": 91,
   "metadata": {},
   "outputs": [
    {
     "ename": "AssertionError",
     "evalue": "",
     "output_type": "error",
     "traceback": [
      "\u001b[0;31m---------------------------------------------------------------------------\u001b[0m",
      "\u001b[0;31mAssertionError\u001b[0m                            Traceback (most recent call last)",
      "\u001b[0;32m<ipython-input-91-1810a90f9239>\u001b[0m in \u001b[0;36m<module>\u001b[0;34m\u001b[0m\n\u001b[0;32m----> 1\u001b[0;31m \u001b[0;32massert\u001b[0m \u001b[0mget_at_content\u001b[0m\u001b[0;34m(\u001b[0m\u001b[0;34m'ATGCNNNNNN'\u001b[0m\u001b[0;34m)\u001b[0m \u001b[0;34m==\u001b[0m \u001b[0;36m0.5\u001b[0m\u001b[0;34m\u001b[0m\u001b[0;34m\u001b[0m\u001b[0m\n\u001b[0m",
      "\u001b[0;31mAssertionError\u001b[0m: "
     ]
    }
   ],
   "source": [
    "assert get_at_content('ATGCNNNNNN') == 0.5"
   ]
  },
  {
   "cell_type": "code",
   "execution_count": 93,
   "metadata": {},
   "outputs": [
    {
     "ename": "ZeroDivisionError",
     "evalue": "float division by zero",
     "output_type": "error",
     "traceback": [
      "\u001b[0;31m---------------------------------------------------------------------------\u001b[0m",
      "\u001b[0;31mZeroDivisionError\u001b[0m                         Traceback (most recent call last)",
      "\u001b[0;32m<ipython-input-93-c2ec56e9f29b>\u001b[0m in \u001b[0;36m<module>\u001b[0;34m\u001b[0m\n\u001b[1;32m      5\u001b[0m     \u001b[0;32mreturn\u001b[0m \u001b[0my\u001b[0m\u001b[0;34m\u001b[0m\u001b[0;34m\u001b[0m\u001b[0m\n\u001b[1;32m      6\u001b[0m \u001b[0;34m\u001b[0m\u001b[0m\n\u001b[0;32m----> 7\u001b[0;31m \u001b[0mcreateabug\u001b[0m\u001b[0;34m(\u001b[0m\u001b[0;36m5\u001b[0m\u001b[0;34m)\u001b[0m\u001b[0;34m\u001b[0m\u001b[0;34m\u001b[0m\u001b[0m\n\u001b[0m",
      "\u001b[0;32m<ipython-input-93-c2ec56e9f29b>\u001b[0m in \u001b[0;36mcreateabug\u001b[0;34m(x)\u001b[0m\n\u001b[1;32m      2\u001b[0m     \u001b[0my\u001b[0m \u001b[0;34m=\u001b[0m \u001b[0mx\u001b[0m\u001b[0;34m**\u001b[0m\u001b[0;36m4\u001b[0m\u001b[0;34m\u001b[0m\u001b[0;34m\u001b[0m\u001b[0m\n\u001b[1;32m      3\u001b[0m     \u001b[0mz\u001b[0m \u001b[0;34m=\u001b[0m \u001b[0;36m0.\u001b[0m\u001b[0;34m\u001b[0m\u001b[0;34m\u001b[0m\u001b[0m\n\u001b[0;32m----> 4\u001b[0;31m     \u001b[0my\u001b[0m \u001b[0;34m=\u001b[0m \u001b[0my\u001b[0m\u001b[0;34m/\u001b[0m\u001b[0mz\u001b[0m\u001b[0;34m\u001b[0m\u001b[0;34m\u001b[0m\u001b[0m\n\u001b[0m\u001b[1;32m      5\u001b[0m     \u001b[0;32mreturn\u001b[0m \u001b[0my\u001b[0m\u001b[0;34m\u001b[0m\u001b[0;34m\u001b[0m\u001b[0m\n\u001b[1;32m      6\u001b[0m \u001b[0;34m\u001b[0m\u001b[0m\n",
      "\u001b[0;31mZeroDivisionError\u001b[0m: float division by zero"
     ]
    }
   ],
   "source": [
    "def createabug(x):\n",
    "    y = x**4\n",
    "    z = 0.\n",
    "    y = y/z\n",
    "    return y\n",
    "\n",
    "createabug(5)"
   ]
  },
  {
   "cell_type": "code",
   "execution_count": null,
   "metadata": {},
   "outputs": [],
   "source": []
  }
 ],
 "metadata": {
  "kernelspec": {
   "display_name": "Python 3",
   "language": "python",
   "name": "python3"
  },
  "language_info": {
   "codemirror_mode": {
    "name": "ipython",
    "version": 3
   },
   "file_extension": ".py",
   "mimetype": "text/x-python",
   "name": "python",
   "nbconvert_exporter": "python",
   "pygments_lexer": "ipython3",
   "version": "3.7.5"
  }
 },
 "nbformat": 4,
 "nbformat_minor": 2
}
