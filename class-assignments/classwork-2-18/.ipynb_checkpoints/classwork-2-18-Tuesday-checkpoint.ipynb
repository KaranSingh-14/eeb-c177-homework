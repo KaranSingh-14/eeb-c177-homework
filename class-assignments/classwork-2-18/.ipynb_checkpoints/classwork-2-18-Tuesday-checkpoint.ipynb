{
 "cells": [
  {
   "cell_type": "code",
   "execution_count": 7,
   "metadata": {},
   "outputs": [],
   "source": [
    "import csv\n",
    "\n",
    "with open(\"fishdata.csv\") as fr:\n",
    "    reader = csv.DictReader(fr)\n",
    "    header = reader.fieldnames\n",
    "\n",
    "    with open(\"fishdata_Labridae.csv\", \"w\") as fw:\n",
    "        writer = csv.DictWriter(fw, fieldnames = header, delimiter = \",\")\n",
    "\n",
    "        for row in reader:\n",
    "            if row[\"family\"] == \"Labridae\":\n",
    "                writer.writerow(row)"
   ]
  },
  {
   "cell_type": "code",
   "execution_count": 8,
   "metadata": {},
   "outputs": [
    {
     "name": "stdout",
     "output_type": "stream",
     "text": [
      "26.94777777777778\n"
     ]
    }
   ],
   "source": [
    "import numpy as np\n",
    "numbs = []\n",
    "with open('fishdata_Labridae.csv', 'r') as file:\n",
    "    means = csv.reader(file)\n",
    "    for ii in means:\n",
    "        if ii[3] != 'NA':\n",
    "            numbs.append(float(ii[3])) \n",
    "            \n",
    "mean_numbs = np.mean(numbs)\n",
    "print(mean_numbs)"
   ]
  },
  {
   "cell_type": "code",
   "execution_count": 9,
   "metadata": {},
   "outputs": [
    {
     "name": "stdout",
     "output_type": "stream",
     "text": [
      "[25.0, 62.0, 42.0, 31.0, 22.0, 20.0, 18.0, 12.6, 25.0, 40.0, 43.0, 21.5, 18.0, 18.0, 45.0, 40.0, 17.0, 45.0, 229.0, 50.0, 38.0, 25.6, 30.0, 28.2, 100.0, 8.0, 30.0, 14.0, 120.0, 17.0, 20.0, 50.8, 40.0, 30.0, 25.0, 15.0, 18.0, 20.0, 20.0, 32.3, 10.0, 18.5, 54.0, 30.0, 30.0, 12.0, 23.0, 8.9, 12.0, 35.0, 15.0, 7.7, 17.5, 19.0, 12.0, 30.0, 25.0, 19.3, 18.0, 27.0, 7.0, 14.0, 12.0, 13.0, 18.0, 12.5, 18.0, 13.0, 12.0, 24.0, 12.0, 12.0, 38.0, 14.0, 25.4, 18.0, 12.0, 13.0, 18.5, 20.0, 13.0, 51.0, 19.0, 23.1, 21.4, 20.0, 38.0, 4.7, 18.0, 27.0, 80.0, 90.0, 40.0, 50.0, 24.0, 17.5, 15.0, 14.0, 9.0, 10.5, 65.9, 45.0, 40.0, 91.0, 15.0, 11.5, 13.0, 13.0, 7.6, 11.5, 15.0, 10.0, 15.0, 12.0, 13.0, 38.0, 23.0, 50.0, 15.0, 30.0, 40.0, 15.0, 24.0, 40.0, 46.0, 25.0, 23.0, 14.0, 20.0, 16.0, 30.0, 13.0, 12.3, 9.7, 25.0, 9.5, 70.0, 91.0, 14.0, 15.0, 15.0, 15.0, 16.0, 20.0, 16.0, 10.0, 18.0, 14.0, 28.0, 12.0, 17.0, 13.0, 44.0, 91.0, 38.0, 16.0, 10.0, 39.5, 25.0, 20.0, 28.0, 20.0, 20.0, 23.0, 20.0, 18.0, 25.0, 30.0, 13.3, 25.0, 46.0, 17.0, 7.8, 31.0, 30.0, 8.0, 12.0, 15.0, 38.0, 17.5]\n"
     ]
    }
   ],
   "source": [
    "new_numbs = []\n",
    "for xx in numbs:\n",
    "    if xx != 'NA':\n",
    "        if xx != 'A':\n",
    "            if xx != 'N':\n",
    "                new_numbs.append(xx)\n",
    "print(new_numbs)"
   ]
  },
  {
   "cell_type": "code",
   "execution_count": 6,
   "metadata": {},
   "outputs": [],
   "source": [
    "mystring = \"This string has X characters\""
   ]
  },
  {
   "cell_type": "code",
   "execution_count": null,
   "metadata": {},
   "outputs": [],
   "source": [
    "def strLens(ss):\n",
    "    sl "
   ]
  }
 ],
 "metadata": {
  "kernelspec": {
   "display_name": "Python 3",
   "language": "python",
   "name": "python3"
  },
  "language_info": {
   "codemirror_mode": {
    "name": "ipython",
    "version": 3
   },
   "file_extension": ".py",
   "mimetype": "text/x-python",
   "name": "python",
   "nbconvert_exporter": "python",
   "pygments_lexer": "ipython3",
   "version": "3.7.5"
  }
 },
 "nbformat": 4,
 "nbformat_minor": 2
}
